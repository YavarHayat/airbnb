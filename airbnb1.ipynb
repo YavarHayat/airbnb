{
 "cells": [
  {
   "cell_type": "markdown",
   "id": "04bfd5c6",
   "metadata": {},
   "source": [
    "### Importing Libraries"
   ]
  },
  {
   "cell_type": "code",
   "execution_count": 1,
   "id": "7999a34e",
   "metadata": {},
   "outputs": [],
   "source": [
    "import sqlite3\n",
    "import numpy as np\n",
    "import pandas as pd\n",
    "import seaborn as sns\n",
    "import matplotlib.pyplot as plt\n",
    "con=sqlite3.connect(\"airbnb.db\")"
   ]
  },
  {
   "cell_type": "markdown",
   "id": "f9b70b97",
   "metadata": {},
   "source": [
    "### Importing Data"
   ]
  },
  {
   "cell_type": "markdown",
   "id": "0874640e",
   "metadata": {},
   "source": [
    "#### There are 4 tables : Calander, Listings, Hosts and Reviews"
   ]
  },
  {
   "cell_type": "code",
   "execution_count": 2,
   "id": "2b67cad7",
   "metadata": {},
   "outputs": [],
   "source": [
    "calendar= pd.read_sql_query(\"select * from calendar\",con)\n",
    "calendar=pd.DataFrame(calendar)\n",
    "\n",
    "\n",
    "listings= pd.read_sql_query(\"select * from listings\",con)\n",
    "listings=pd.DataFrame(listings)\n",
    "\n",
    "hosts= pd.read_sql_query(\"select * from hosts\",con)\n",
    "hosts=pd.DataFrame(hosts)\n",
    "\n",
    "reviews= pd.read_sql_query(\"select * from reviews\",con)\n",
    "reviews=pd.DataFrame(reviews)"
   ]
  },
  {
   "cell_type": "markdown",
   "id": "399cf511",
   "metadata": {},
   "source": [
    "### Reading Data"
   ]
  },
  {
   "cell_type": "markdown",
   "id": "0aca45b1",
   "metadata": {},
   "source": [
    "### Calendar"
   ]
  },
  {
   "cell_type": "code",
   "execution_count": 3,
   "id": "2bb86810",
   "metadata": {
    "scrolled": true
   },
   "outputs": [
    {
     "data": {
      "text/html": [
       "<div>\n",
       "<style scoped>\n",
       "    .dataframe tbody tr th:only-of-type {\n",
       "        vertical-align: middle;\n",
       "    }\n",
       "\n",
       "    .dataframe tbody tr th {\n",
       "        vertical-align: top;\n",
       "    }\n",
       "\n",
       "    .dataframe thead th {\n",
       "        text-align: right;\n",
       "    }\n",
       "</style>\n",
       "<table border=\"1\" class=\"dataframe\">\n",
       "  <thead>\n",
       "    <tr style=\"text-align: right;\">\n",
       "      <th></th>\n",
       "      <th>calender_id</th>\n",
       "      <th>listing_id</th>\n",
       "      <th>date</th>\n",
       "      <th>available</th>\n",
       "      <th>price</th>\n",
       "      <th>adjusted_price</th>\n",
       "      <th>minimum_nights</th>\n",
       "      <th>maximum_nights</th>\n",
       "    </tr>\n",
       "  </thead>\n",
       "  <tbody>\n",
       "    <tr>\n",
       "      <th>0</th>\n",
       "      <td>1</td>\n",
       "      <td>40334325</td>\n",
       "      <td>2022-08-03 00:00:00.000000</td>\n",
       "      <td>0</td>\n",
       "      <td>56.0</td>\n",
       "      <td>56.0</td>\n",
       "      <td>3</td>\n",
       "      <td>5</td>\n",
       "    </tr>\n",
       "    <tr>\n",
       "      <th>1</th>\n",
       "      <td>2</td>\n",
       "      <td>22742449</td>\n",
       "      <td>2022-11-13 00:00:00.000000</td>\n",
       "      <td>1</td>\n",
       "      <td>95.0</td>\n",
       "      <td>95.0</td>\n",
       "      <td>2</td>\n",
       "      <td>99</td>\n",
       "    </tr>\n",
       "    <tr>\n",
       "      <th>2</th>\n",
       "      <td>3</td>\n",
       "      <td>34621717</td>\n",
       "      <td>2022-04-17 00:00:00.000000</td>\n",
       "      <td>0</td>\n",
       "      <td>75.0</td>\n",
       "      <td>75.0</td>\n",
       "      <td>2</td>\n",
       "      <td>1125</td>\n",
       "    </tr>\n",
       "    <tr>\n",
       "      <th>3</th>\n",
       "      <td>4</td>\n",
       "      <td>38281744</td>\n",
       "      <td>2022-01-31 00:00:00.000000</td>\n",
       "      <td>1</td>\n",
       "      <td>150.0</td>\n",
       "      <td>150.0</td>\n",
       "      <td>1</td>\n",
       "      <td>1000</td>\n",
       "    </tr>\n",
       "    <tr>\n",
       "      <th>4</th>\n",
       "      <td>5</td>\n",
       "      <td>18835003</td>\n",
       "      <td>2022-05-21 00:00:00.000000</td>\n",
       "      <td>0</td>\n",
       "      <td>100.0</td>\n",
       "      <td>100.0</td>\n",
       "      <td>2</td>\n",
       "      <td>1125</td>\n",
       "    </tr>\n",
       "  </tbody>\n",
       "</table>\n",
       "</div>"
      ],
      "text/plain": [
       "   calender_id  listing_id                        date  available  price  \\\n",
       "0            1    40334325  2022-08-03 00:00:00.000000          0   56.0   \n",
       "1            2    22742449  2022-11-13 00:00:00.000000          1   95.0   \n",
       "2            3    34621717  2022-04-17 00:00:00.000000          0   75.0   \n",
       "3            4    38281744  2022-01-31 00:00:00.000000          1  150.0   \n",
       "4            5    18835003  2022-05-21 00:00:00.000000          0  100.0   \n",
       "\n",
       "   adjusted_price  minimum_nights  maximum_nights  \n",
       "0            56.0               3               5  \n",
       "1            95.0               2              99  \n",
       "2            75.0               2            1125  \n",
       "3           150.0               1            1000  \n",
       "4           100.0               2            1125  "
      ]
     },
     "execution_count": 3,
     "metadata": {},
     "output_type": "execute_result"
    }
   ],
   "source": [
    "calendar.head()"
   ]
  },
  {
   "cell_type": "code",
   "execution_count": 4,
   "id": "c717a449",
   "metadata": {},
   "outputs": [
    {
     "name": "stdout",
     "output_type": "stream",
     "text": [
      "<class 'pandas.core.frame.DataFrame'>\n",
      "RangeIndex: 319192 entries, 0 to 319191\n",
      "Data columns (total 8 columns):\n",
      " #   Column          Non-Null Count   Dtype  \n",
      "---  ------          --------------   -----  \n",
      " 0   calender_id     319192 non-null  int64  \n",
      " 1   listing_id      319192 non-null  int64  \n",
      " 2   date            319192 non-null  object \n",
      " 3   available       319192 non-null  int64  \n",
      " 4   price           319117 non-null  float64\n",
      " 5   adjusted_price  319117 non-null  float64\n",
      " 6   minimum_nights  319192 non-null  int64  \n",
      " 7   maximum_nights  319192 non-null  int64  \n",
      "dtypes: float64(2), int64(5), object(1)\n",
      "memory usage: 19.5+ MB\n"
     ]
    }
   ],
   "source": [
    "calendar.info()"
   ]
  },
  {
   "cell_type": "code",
   "execution_count": 5,
   "id": "033fa581",
   "metadata": {
    "scrolled": false
   },
   "outputs": [
    {
     "data": {
      "text/plain": [
       "<AxesSubplot:>"
      ]
     },
     "execution_count": 5,
     "metadata": {},
     "output_type": "execute_result"
    },
    {
     "data": {
      "image/png": "[encoded data removed]",
      "text/plain": [
       "<Figure size 432x288 with 1 Axes>"
      ]
     },
     "metadata": {
      "needs_background": "light"
     },
     "output_type": "display_data"
    }
   ],
   "source": [
    "calendar.isna().sum().plot(kind='bar')"
   ]
  },
  {
   "cell_type": "markdown",
   "id": "59778d58",
   "metadata": {},
   "source": [
    "#### taking the latest values of the listings in calendar table"
   ]
  },
  {
   "cell_type": "code",
   "execution_count": 6,
   "id": "e375ca87",
   "metadata": {
    "scrolled": false
   },
   "outputs": [],
   "source": [
    "c = calendar.sort_values('date').groupby('listing_id').last()"
   ]
  },
  {
   "cell_type": "code",
   "execution_count": 7,
   "id": "75e39b0f",
   "metadata": {},
   "outputs": [],
   "source": [
    "c=c.reset_index()"
   ]
  },
  {
   "cell_type": "code",
   "execution_count": 8,
   "id": "ccc601d2",
   "metadata": {},
   "outputs": [
    {
     "data": {
      "text/plain": [
       "((319192, 8), (1749, 8))"
      ]
     },
     "execution_count": 8,
     "metadata": {},
     "output_type": "execute_result"
    }
   ],
   "source": [
    "calendar.shape,c.shape"
   ]
  },
  {
   "cell_type": "code",
   "execution_count": 9,
   "id": "4d064101",
   "metadata": {
    "scrolled": true
   },
   "outputs": [
    {
     "data": {
      "text/plain": [
       "listing_id        0\n",
       "calender_id       0\n",
       "date              0\n",
       "available         0\n",
       "price             0\n",
       "adjusted_price    0\n",
       "minimum_nights    0\n",
       "maximum_nights    0\n",
       "dtype: int64"
      ]
     },
     "execution_count": 9,
     "metadata": {},
     "output_type": "execute_result"
    }
   ],
   "source": [
    "c.isna().sum()"
   ]
  },
  {
   "cell_type": "code",
   "execution_count": 10,
   "id": "b0daebbc",
   "metadata": {},
   "outputs": [],
   "source": [
    "c.drop(axis=1,columns=['date','adjusted_price','calender_id'],inplace=True)"
   ]
  },
  {
   "cell_type": "markdown",
   "id": "44cd0f58",
   "metadata": {},
   "source": [
    "### Listings"
   ]
  },
  {
   "cell_type": "code",
   "execution_count": 11,
   "id": "d2ab2f38",
   "metadata": {},
   "outputs": [
    {
     "data": {
      "text/html": [
       "<div>\n",
       "<style scoped>\n",
       "    .dataframe tbody tr th:only-of-type {\n",
       "        vertical-align: middle;\n",
       "    }\n",
       "\n",
       "    .dataframe tbody tr th {\n",
       "        vertical-align: top;\n",
       "    }\n",
       "\n",
       "    .dataframe thead th {\n",
       "        text-align: right;\n",
       "    }\n",
       "</style>\n",
       "<table border=\"1\" class=\"dataframe\">\n",
       "  <thead>\n",
       "    <tr style=\"text-align: right;\">\n",
       "      <th></th>\n",
       "      <th>listing_id</th>\n",
       "      <th>listing_url</th>\n",
       "      <th>name</th>\n",
       "      <th>description</th>\n",
       "      <th>latitude</th>\n",
       "      <th>longitude</th>\n",
       "      <th>property_type</th>\n",
       "      <th>room_type</th>\n",
       "      <th>accomodates</th>\n",
       "      <th>bathrooms_text</th>\n",
       "      <th>bedrooms</th>\n",
       "      <th>beds</th>\n",
       "      <th>amenities</th>\n",
       "      <th>host_id</th>\n",
       "    </tr>\n",
       "  </thead>\n",
       "  <tbody>\n",
       "    <tr>\n",
       "      <th>0</th>\n",
       "      <td>50904</td>\n",
       "      <td>https://www.airbnb.com/rooms/50904</td>\n",
       "      <td>aplace/antwerp: cosy suite - fashion district</td>\n",
       "      <td>Decorated in a vintage style combined with a f...</td>\n",
       "      <td>51.218575</td>\n",
       "      <td>4.398631</td>\n",
       "      <td>Room in boutique hotel</td>\n",
       "      <td>Hotel room</td>\n",
       "      <td>2</td>\n",
       "      <td>1 private bath</td>\n",
       "      <td>1.0</td>\n",
       "      <td>1.0</td>\n",
       "      <td>[\"Kitchen\", \"Smoke alarm\", \"Hair dryer\", \"Keyp...</td>\n",
       "      <td>234077</td>\n",
       "    </tr>\n",
       "    <tr>\n",
       "      <th>1</th>\n",
       "      <td>116134</td>\n",
       "      <td>https://www.airbnb.com/rooms/116134</td>\n",
       "      <td>Spacious apartment nearby Mas</td>\n",
       "      <td>Enjoy your stay at our 4 person apartment in t...</td>\n",
       "      <td>51.230510</td>\n",
       "      <td>4.405930</td>\n",
       "      <td>Entire rental unit</td>\n",
       "      <td>Entire home/apt</td>\n",
       "      <td>4</td>\n",
       "      <td>2.5 baths</td>\n",
       "      <td>2.0</td>\n",
       "      <td>2.0</td>\n",
       "      <td>[\"Refrigerator\", \"Elevator\", \"Paid street park...</td>\n",
       "      <td>586942</td>\n",
       "    </tr>\n",
       "    <tr>\n",
       "      <th>2</th>\n",
       "      <td>218916</td>\n",
       "      <td>https://www.airbnb.com/rooms/218916</td>\n",
       "      <td>Apartment with terrace in trendy Zurenborg</td>\n",
       "      <td>Do you enjoy authentic places with a lot of ch...</td>\n",
       "      <td>51.206330</td>\n",
       "      <td>4.429420</td>\n",
       "      <td>Entire condominium (condo)</td>\n",
       "      <td>Entire home/apt</td>\n",
       "      <td>5</td>\n",
       "      <td>1 bath</td>\n",
       "      <td>1.0</td>\n",
       "      <td>3.0</td>\n",
       "      <td>[\"Paid street parking off premises\", \"Kitchen\"...</td>\n",
       "      <td>915664</td>\n",
       "    </tr>\n",
       "    <tr>\n",
       "      <th>3</th>\n",
       "      <td>224333</td>\n",
       "      <td>https://www.airbnb.com/rooms/224333</td>\n",
       "      <td>Large stylish room in 1930s house + garden</td>\n",
       "      <td>Large bedroom in classic 1930s house. Kitchen,...</td>\n",
       "      <td>51.197720</td>\n",
       "      <td>4.458530</td>\n",
       "      <td>Private room in residential home</td>\n",
       "      <td>Private room</td>\n",
       "      <td>2</td>\n",
       "      <td>2 shared baths</td>\n",
       "      <td>1.0</td>\n",
       "      <td>1.0</td>\n",
       "      <td>[\"Fire extinguisher\", \"Backyard\", \"Long term s...</td>\n",
       "      <td>1167377</td>\n",
       "    </tr>\n",
       "    <tr>\n",
       "      <th>4</th>\n",
       "      <td>224682</td>\n",
       "      <td>https://www.airbnb.com/rooms/224682</td>\n",
       "      <td>APARTMENT ROSCAM - OLD CENTRE ANTWERP</td>\n",
       "      <td>&lt;b&gt;The space&lt;/b&gt;&lt;br /&gt;Apartment \"Roscam\" is a ...</td>\n",
       "      <td>51.217220</td>\n",
       "      <td>4.397900</td>\n",
       "      <td>Entire rental unit</td>\n",
       "      <td>Entire home/apt</td>\n",
       "      <td>3</td>\n",
       "      <td>1 bath</td>\n",
       "      <td>1.0</td>\n",
       "      <td>2.0</td>\n",
       "      <td>[\"Refrigerator\", \"Kitchen\", \"Smoke alarm\", \"Sh...</td>\n",
       "      <td>1263933</td>\n",
       "    </tr>\n",
       "  </tbody>\n",
       "</table>\n",
       "</div>"
      ],
      "text/plain": [
       "   listing_id                          listing_url  \\\n",
       "0       50904   https://www.airbnb.com/rooms/50904   \n",
       "1      116134  https://www.airbnb.com/rooms/116134   \n",
       "2      218916  https://www.airbnb.com/rooms/218916   \n",
       "3      224333  https://www.airbnb.com/rooms/224333   \n",
       "4      224682  https://www.airbnb.com/rooms/224682   \n",
       "\n",
       "                                            name  \\\n",
       "0  aplace/antwerp: cosy suite - fashion district   \n",
       "1                  Spacious apartment nearby Mas   \n",
       "2     Apartment with terrace in trendy Zurenborg   \n",
       "3     Large stylish room in 1930s house + garden   \n",
       "4          APARTMENT ROSCAM - OLD CENTRE ANTWERP   \n",
       "\n",
       "                                         description   latitude  longitude  \\\n",
       "0  Decorated in a vintage style combined with a f...  51.218575   4.398631   \n",
       "1  Enjoy your stay at our 4 person apartment in t...  51.230510   4.405930   \n",
       "2  Do you enjoy authentic places with a lot of ch...  51.206330   4.429420   \n",
       "3  Large bedroom in classic 1930s house. Kitchen,...  51.197720   4.458530   \n",
       "4  <b>The space</b><br />Apartment \"Roscam\" is a ...  51.217220   4.397900   \n",
       "\n",
       "                      property_type        room_type  accomodates  \\\n",
       "0            Room in boutique hotel       Hotel room            2   \n",
       "1                Entire rental unit  Entire home/apt            4   \n",
       "2        Entire condominium (condo)  Entire home/apt            5   \n",
       "3  Private room in residential home     Private room            2   \n",
       "4                Entire rental unit  Entire home/apt            3   \n",
       "\n",
       "   bathrooms_text  bedrooms  beds  \\\n",
       "0  1 private bath       1.0   1.0   \n",
       "1       2.5 baths       2.0   2.0   \n",
       "2          1 bath       1.0   3.0   \n",
       "3  2 shared baths       1.0   1.0   \n",
       "4          1 bath       1.0   2.0   \n",
       "\n",
       "                                           amenities  host_id  \n",
       "0  [\"Kitchen\", \"Smoke alarm\", \"Hair dryer\", \"Keyp...   234077  \n",
       "1  [\"Refrigerator\", \"Elevator\", \"Paid street park...   586942  \n",
       "2  [\"Paid street parking off premises\", \"Kitchen\"...   915664  \n",
       "3  [\"Fire extinguisher\", \"Backyard\", \"Long term s...  1167377  \n",
       "4  [\"Refrigerator\", \"Kitchen\", \"Smoke alarm\", \"Sh...  1263933  "
      ]
     },
     "execution_count": 11,
     "metadata": {},
     "output_type": "execute_result"
    }
   ],
   "source": [
    "listings.head()"
   ]
  },
  {
   "cell_type": "code",
   "execution_count": 12,
   "id": "fc1b27c2",
   "metadata": {},
   "outputs": [
    {
     "name": "stdout",
     "output_type": "stream",
     "text": [
      "<class 'pandas.core.frame.DataFrame'>\n",
      "RangeIndex: 1749 entries, 0 to 1748\n",
      "Data columns (total 14 columns):\n",
      " #   Column          Non-Null Count  Dtype  \n",
      "---  ------          --------------  -----  \n",
      " 0   listing_id      1749 non-null   int64  \n",
      " 1   listing_url     1749 non-null   object \n",
      " 2   name            1749 non-null   object \n",
      " 3   description     1679 non-null   object \n",
      " 4   latitude        1749 non-null   float64\n",
      " 5   longitude       1749 non-null   float64\n",
      " 6   property_type   1749 non-null   object \n",
      " 7   room_type       1749 non-null   object \n",
      " 8   accomodates     1749 non-null   int64  \n",
      " 9   bathrooms_text  1749 non-null   object \n",
      " 10  bedrooms        1621 non-null   float64\n",
      " 11  beds            1708 non-null   float64\n",
      " 12  amenities       1749 non-null   object \n",
      " 13  host_id         1749 non-null   int64  \n",
      "dtypes: float64(4), int64(3), object(7)\n",
      "memory usage: 191.4+ KB\n"
     ]
    }
   ],
   "source": [
    "listings.info()"
   ]
  },
  {
   "cell_type": "code",
   "execution_count": 13,
   "id": "68cf3af2",
   "metadata": {
    "scrolled": true
   },
   "outputs": [
    {
     "data": {
      "text/plain": [
       "<AxesSubplot:>"
      ]
     },
     "execution_count": 13,
     "metadata": {},
     "output_type": "execute_result"
    },
    {
     "data": {
      "image/png": "[encoded data removed]",
      "text/plain": [
       "<Figure size 432x288 with 1 Axes>"
      ]
     },
     "metadata": {
      "needs_background": "light"
     },
     "output_type": "display_data"
    }
   ],
   "source": [
    "listings.isna().sum().plot(kind='bar')"
   ]
  },
  {
   "cell_type": "markdown",
   "id": "d99fb704",
   "metadata": {},
   "source": [
    "### Hosts"
   ]
  },
  {
   "cell_type": "code",
   "execution_count": 14,
   "id": "0f461ec6",
   "metadata": {},
   "outputs": [
    {
     "data": {
      "text/html": [
       "<div>\n",
       "<style scoped>\n",
       "    .dataframe tbody tr th:only-of-type {\n",
       "        vertical-align: middle;\n",
       "    }\n",
       "\n",
       "    .dataframe tbody tr th {\n",
       "        vertical-align: top;\n",
       "    }\n",
       "\n",
       "    .dataframe thead th {\n",
       "        text-align: right;\n",
       "    }\n",
       "</style>\n",
       "<table border=\"1\" class=\"dataframe\">\n",
       "  <thead>\n",
       "    <tr style=\"text-align: right;\">\n",
       "      <th></th>\n",
       "      <th>host_id</th>\n",
       "      <th>host_name</th>\n",
       "      <th>host_since</th>\n",
       "      <th>host_location</th>\n",
       "      <th>host_about</th>\n",
       "    </tr>\n",
       "  </thead>\n",
       "  <tbody>\n",
       "    <tr>\n",
       "      <th>0</th>\n",
       "      <td>234077</td>\n",
       "      <td>Karin</td>\n",
       "      <td>2010-09-14 00:00:00.000000</td>\n",
       "      <td>Antwerp, Flanders, Belgium</td>\n",
       "      <td>Ever since my childhood I dreamt of having my ...</td>\n",
       "    </tr>\n",
       "    <tr>\n",
       "      <th>1</th>\n",
       "      <td>334804</td>\n",
       "      <td>Ann</td>\n",
       "      <td>2011-01-04 00:00:00.000000</td>\n",
       "      <td>Antwerp, Flemish Region, Belgium</td>\n",
       "      <td>Ciao, \\r\\nlooking forward to meet you!\\r\\nI lo...</td>\n",
       "    </tr>\n",
       "    <tr>\n",
       "      <th>2</th>\n",
       "      <td>413052</td>\n",
       "      <td>Valérie</td>\n",
       "      <td>2011-02-27 00:00:00.000000</td>\n",
       "      <td>Antwerp, Flanders, Belgium</td>\n",
       "      <td>None</td>\n",
       "    </tr>\n",
       "    <tr>\n",
       "      <th>3</th>\n",
       "      <td>452791</td>\n",
       "      <td>Tatiana</td>\n",
       "      <td>2011-03-20 00:00:00.000000</td>\n",
       "      <td>Antwerp, Flanders, Belgium</td>\n",
       "      <td>World traveler with a penchant for adrenaline ...</td>\n",
       "    </tr>\n",
       "    <tr>\n",
       "      <th>4</th>\n",
       "      <td>462975</td>\n",
       "      <td>Els</td>\n",
       "      <td>2011-03-25 00:00:00.000000</td>\n",
       "      <td>Edegem, Flanders, Belgium</td>\n",
       "      <td>I studied languages and cultural anthropology ...</td>\n",
       "    </tr>\n",
       "  </tbody>\n",
       "</table>\n",
       "</div>"
      ],
      "text/plain": [
       "   host_id host_name                  host_since  \\\n",
       "0   234077     Karin  2010-09-14 00:00:00.000000   \n",
       "1   334804       Ann  2011-01-04 00:00:00.000000   \n",
       "2   413052   Valérie  2011-02-27 00:00:00.000000   \n",
       "3   452791   Tatiana  2011-03-20 00:00:00.000000   \n",
       "4   462975       Els  2011-03-25 00:00:00.000000   \n",
       "\n",
       "                      host_location  \\\n",
       "0        Antwerp, Flanders, Belgium   \n",
       "1  Antwerp, Flemish Region, Belgium   \n",
       "2        Antwerp, Flanders, Belgium   \n",
       "3        Antwerp, Flanders, Belgium   \n",
       "4         Edegem, Flanders, Belgium   \n",
       "\n",
       "                                          host_about  \n",
       "0  Ever since my childhood I dreamt of having my ...  \n",
       "1  Ciao, \\r\\nlooking forward to meet you!\\r\\nI lo...  \n",
       "2                                               None  \n",
       "3  World traveler with a penchant for adrenaline ...  \n",
       "4  I studied languages and cultural anthropology ...  "
      ]
     },
     "execution_count": 14,
     "metadata": {},
     "output_type": "execute_result"
    }
   ],
   "source": [
    "hosts.head()"
   ]
  },
  {
   "cell_type": "code",
   "execution_count": 15,
   "id": "9a0ddb1a",
   "metadata": {},
   "outputs": [
    {
     "name": "stdout",
     "output_type": "stream",
     "text": [
      "<class 'pandas.core.frame.DataFrame'>\n",
      "RangeIndex: 1111 entries, 0 to 1110\n",
      "Data columns (total 5 columns):\n",
      " #   Column         Non-Null Count  Dtype \n",
      "---  ------         --------------  ----- \n",
      " 0   host_id        1111 non-null   int64 \n",
      " 1   host_name      1111 non-null   object\n",
      " 2   host_since     1111 non-null   object\n",
      " 3   host_location  1108 non-null   object\n",
      " 4   host_about     490 non-null    object\n",
      "dtypes: int64(1), object(4)\n",
      "memory usage: 43.5+ KB\n"
     ]
    }
   ],
   "source": [
    "hosts.info()"
   ]
  },
  {
   "cell_type": "code",
   "execution_count": 16,
   "id": "aaa4449c",
   "metadata": {},
   "outputs": [
    {
     "data": {
      "text/plain": [
       "<AxesSubplot:>"
      ]
     },
     "execution_count": 16,
     "metadata": {},
     "output_type": "execute_result"
    },
    {
     "data": {
      "image/png": "[encoded data removed]",
      "text/plain": [
       "<Figure size 432x288 with 1 Axes>"
      ]
     },
     "metadata": {
      "needs_background": "light"
     },
     "output_type": "display_data"
    }
   ],
   "source": [
    "hosts.isna().sum().plot(kind='bar')"
   ]
  },
  {
   "cell_type": "code",
   "execution_count": 17,
   "id": "f160e1b7",
   "metadata": {},
   "outputs": [],
   "source": [
    "hosts.drop(axis=1,columns=['host_about'],inplace=True)"
   ]
  },
  {
   "cell_type": "markdown",
   "id": "84e03a55",
   "metadata": {},
   "source": [
    "### Reviews"
   ]
  },
  {
   "cell_type": "code",
   "execution_count": 18,
   "id": "b4a20933",
   "metadata": {
    "scrolled": true
   },
   "outputs": [
    {
     "data": {
      "text/html": [
       "<div>\n",
       "<style scoped>\n",
       "    .dataframe tbody tr th:only-of-type {\n",
       "        vertical-align: middle;\n",
       "    }\n",
       "\n",
       "    .dataframe tbody tr th {\n",
       "        vertical-align: top;\n",
       "    }\n",
       "\n",
       "    .dataframe thead th {\n",
       "        text-align: right;\n",
       "    }\n",
       "</style>\n",
       "<table border=\"1\" class=\"dataframe\">\n",
       "  <thead>\n",
       "    <tr style=\"text-align: right;\">\n",
       "      <th></th>\n",
       "      <th>review_id</th>\n",
       "      <th>listing_id</th>\n",
       "      <th>date</th>\n",
       "      <th>reviewer_id</th>\n",
       "      <th>reviewer_name</th>\n",
       "      <th>comments</th>\n",
       "    </tr>\n",
       "  </thead>\n",
       "  <tbody>\n",
       "    <tr>\n",
       "      <th>0</th>\n",
       "      <td>1</td>\n",
       "      <td>50904</td>\n",
       "      <td>2015-05-06 00:00:00.000000</td>\n",
       "      <td>19482395</td>\n",
       "      <td>Jihae</td>\n",
       "      <td>Karin’s “Aplace” is absolutely beautiful and c...</td>\n",
       "    </tr>\n",
       "    <tr>\n",
       "      <th>1</th>\n",
       "      <td>2</td>\n",
       "      <td>50904</td>\n",
       "      <td>2021-10-10 00:00:00.000000</td>\n",
       "      <td>333559</td>\n",
       "      <td>Emilie</td>\n",
       "      <td>Karin is a wonderful host, she was really help...</td>\n",
       "    </tr>\n",
       "    <tr>\n",
       "      <th>2</th>\n",
       "      <td>3</td>\n",
       "      <td>116134</td>\n",
       "      <td>2012-03-05 00:00:00.000000</td>\n",
       "      <td>928644</td>\n",
       "      <td>Aurélien</td>\n",
       "      <td>Amazing flat, really close from the MAS Musem,...</td>\n",
       "    </tr>\n",
       "    <tr>\n",
       "      <th>3</th>\n",
       "      <td>4</td>\n",
       "      <td>116134</td>\n",
       "      <td>2012-05-25 00:00:00.000000</td>\n",
       "      <td>231288</td>\n",
       "      <td>Gail</td>\n",
       "      <td>This is a well equipped, very comfortable apar...</td>\n",
       "    </tr>\n",
       "    <tr>\n",
       "      <th>4</th>\n",
       "      <td>5</td>\n",
       "      <td>116134</td>\n",
       "      <td>2013-09-03 00:00:00.000000</td>\n",
       "      <td>7984251</td>\n",
       "      <td>Marcel</td>\n",
       "      <td>This is a very nice appartement. We really lik...</td>\n",
       "    </tr>\n",
       "  </tbody>\n",
       "</table>\n",
       "</div>"
      ],
      "text/plain": [
       "   review_id  listing_id                        date  reviewer_id  \\\n",
       "0          1       50904  2015-05-06 00:00:00.000000     19482395   \n",
       "1          2       50904  2021-10-10 00:00:00.000000       333559   \n",
       "2          3      116134  2012-03-05 00:00:00.000000       928644   \n",
       "3          4      116134  2012-05-25 00:00:00.000000       231288   \n",
       "4          5      116134  2013-09-03 00:00:00.000000      7984251   \n",
       "\n",
       "  reviewer_name                                           comments  \n",
       "0         Jihae  Karin’s “Aplace” is absolutely beautiful and c...  \n",
       "1        Emilie  Karin is a wonderful host, she was really help...  \n",
       "2      Aurélien  Amazing flat, really close from the MAS Musem,...  \n",
       "3          Gail  This is a well equipped, very comfortable apar...  \n",
       "4        Marcel  This is a very nice appartement. We really lik...  "
      ]
     },
     "execution_count": 18,
     "metadata": {},
     "output_type": "execute_result"
    }
   ],
   "source": [
    "reviews.head()"
   ]
  },
  {
   "cell_type": "code",
   "execution_count": 19,
   "id": "8afc1305",
   "metadata": {},
   "outputs": [
    {
     "name": "stdout",
     "output_type": "stream",
     "text": [
      "<class 'pandas.core.frame.DataFrame'>\n",
      "RangeIndex: 62987 entries, 0 to 62986\n",
      "Data columns (total 6 columns):\n",
      " #   Column         Non-Null Count  Dtype \n",
      "---  ------         --------------  ----- \n",
      " 0   review_id      62987 non-null  int64 \n",
      " 1   listing_id     62987 non-null  int64 \n",
      " 2   date           62987 non-null  object\n",
      " 3   reviewer_id    62987 non-null  int64 \n",
      " 4   reviewer_name  62987 non-null  object\n",
      " 5   comments       62923 non-null  object\n",
      "dtypes: int64(3), object(3)\n",
      "memory usage: 2.9+ MB\n"
     ]
    }
   ],
   "source": [
    "reviews.info()"
   ]
  },
  {
   "cell_type": "code",
   "execution_count": 20,
   "id": "5dec5518",
   "metadata": {},
   "outputs": [
    {
     "data": {
      "text/plain": [
       "<AxesSubplot:>"
      ]
     },
     "execution_count": 20,
     "metadata": {},
     "output_type": "execute_result"
    },
    {
     "data": {
      "image/png": "[encoded data removed]",
      "text/plain": [
       "<Figure size 432x288 with 1 Axes>"
      ]
     },
     "metadata": {
      "needs_background": "light"
     },
     "output_type": "display_data"
    }
   ],
   "source": [
    "reviews.isna().sum().plot(kind='bar')"
   ]
  },
  {
   "cell_type": "code",
   "execution_count": 21,
   "id": "300ddfee",
   "metadata": {},
   "outputs": [],
   "source": [
    "rev=reviews.groupby('listing_id').count().reset_index().loc[:,['listing_id','comments']]"
   ]
  },
  {
   "cell_type": "markdown",
   "id": "d1f78e3c",
   "metadata": {},
   "source": [
    "### Merging Tables"
   ]
  },
  {
   "cell_type": "code",
   "execution_count": 22,
   "id": "99b8d3b9",
   "metadata": {},
   "outputs": [],
   "source": [
    "merge =pd.merge(c,listings)"
   ]
  },
  {
   "cell_type": "code",
   "execution_count": 23,
   "id": "8f2388dd",
   "metadata": {},
   "outputs": [
    {
     "data": {
      "text/plain": [
       "(1749, 18)"
      ]
     },
     "execution_count": 23,
     "metadata": {},
     "output_type": "execute_result"
    }
   ],
   "source": [
    "merge.shape"
   ]
  },
  {
   "cell_type": "code",
   "execution_count": 24,
   "id": "d4900822",
   "metadata": {},
   "outputs": [],
   "source": [
    "merge=pd.merge(merge,hosts)"
   ]
  },
  {
   "cell_type": "code",
   "execution_count": 25,
   "id": "af343342",
   "metadata": {},
   "outputs": [
    {
     "data": {
      "text/plain": [
       "(1749, 21)"
      ]
     },
     "execution_count": 25,
     "metadata": {},
     "output_type": "execute_result"
    }
   ],
   "source": [
    "merge.shape"
   ]
  },
  {
   "cell_type": "code",
   "execution_count": 26,
   "id": "b5e4114f",
   "metadata": {},
   "outputs": [],
   "source": [
    "merged=pd.merge(merge,rev,how='left')"
   ]
  },
  {
   "cell_type": "code",
   "execution_count": 27,
   "id": "5513fbb4",
   "metadata": {},
   "outputs": [
    {
     "data": {
      "text/plain": [
       "(1749, 22)"
      ]
     },
     "execution_count": 27,
     "metadata": {},
     "output_type": "execute_result"
    }
   ],
   "source": [
    "merged.shape"
   ]
  },
  {
   "cell_type": "code",
   "execution_count": 28,
   "id": "8948dc9a",
   "metadata": {
    "scrolled": false
   },
   "outputs": [
    {
     "data": {
      "text/html": [
       "<div>\n",
       "<style scoped>\n",
       "    .dataframe tbody tr th:only-of-type {\n",
       "        vertical-align: middle;\n",
       "    }\n",
       "\n",
       "    .dataframe tbody tr th {\n",
       "        vertical-align: top;\n",
       "    }\n",
       "\n",
       "    .dataframe thead th {\n",
       "        text-align: right;\n",
       "    }\n",
       "</style>\n",
       "<table border=\"1\" class=\"dataframe\">\n",
       "  <thead>\n",
       "    <tr style=\"text-align: right;\">\n",
       "      <th></th>\n",
       "      <th>listing_id</th>\n",
       "      <th>available</th>\n",
       "      <th>price</th>\n",
       "      <th>minimum_nights</th>\n",
       "      <th>maximum_nights</th>\n",
       "      <th>listing_url</th>\n",
       "      <th>name</th>\n",
       "      <th>description</th>\n",
       "      <th>latitude</th>\n",
       "      <th>longitude</th>\n",
       "      <th>...</th>\n",
       "      <th>accomodates</th>\n",
       "      <th>bathrooms_text</th>\n",
       "      <th>bedrooms</th>\n",
       "      <th>beds</th>\n",
       "      <th>amenities</th>\n",
       "      <th>host_id</th>\n",
       "      <th>host_name</th>\n",
       "      <th>host_since</th>\n",
       "      <th>host_location</th>\n",
       "      <th>comments</th>\n",
       "    </tr>\n",
       "  </thead>\n",
       "  <tbody>\n",
       "    <tr>\n",
       "      <th>0</th>\n",
       "      <td>50904</td>\n",
       "      <td>0</td>\n",
       "      <td>165.0</td>\n",
       "      <td>1</td>\n",
       "      <td>60</td>\n",
       "      <td>https://www.airbnb.com/rooms/50904</td>\n",
       "      <td>aplace/antwerp: cosy suite - fashion district</td>\n",
       "      <td>Decorated in a vintage style combined with a f...</td>\n",
       "      <td>51.218575</td>\n",
       "      <td>4.398631</td>\n",
       "      <td>...</td>\n",
       "      <td>2</td>\n",
       "      <td>1 private bath</td>\n",
       "      <td>1.0</td>\n",
       "      <td>1.0</td>\n",
       "      <td>[\"Kitchen\", \"Smoke alarm\", \"Hair dryer\", \"Keyp...</td>\n",
       "      <td>234077</td>\n",
       "      <td>Karin</td>\n",
       "      <td>2010-09-14 00:00:00.000000</td>\n",
       "      <td>Antwerp, Flanders, Belgium</td>\n",
       "      <td>2.0</td>\n",
       "    </tr>\n",
       "    <tr>\n",
       "      <th>1</th>\n",
       "      <td>891884</td>\n",
       "      <td>0</td>\n",
       "      <td>175.0</td>\n",
       "      <td>1</td>\n",
       "      <td>1125</td>\n",
       "      <td>https://www.airbnb.com/rooms/891884</td>\n",
       "      <td>aplace/antwerp: amazing suite &amp; square view</td>\n",
       "      <td>This second floor suite with a splendid square...</td>\n",
       "      <td>51.218575</td>\n",
       "      <td>4.398631</td>\n",
       "      <td>...</td>\n",
       "      <td>2</td>\n",
       "      <td>1 private bath</td>\n",
       "      <td>1.0</td>\n",
       "      <td>1.0</td>\n",
       "      <td>[\"Refrigerator\", \"Kitchen\", \"Smoke alarm\", \"Ha...</td>\n",
       "      <td>234077</td>\n",
       "      <td>Karin</td>\n",
       "      <td>2010-09-14 00:00:00.000000</td>\n",
       "      <td>Antwerp, Flanders, Belgium</td>\n",
       "      <td>2.0</td>\n",
       "    </tr>\n",
       "    <tr>\n",
       "      <th>2</th>\n",
       "      <td>891907</td>\n",
       "      <td>1</td>\n",
       "      <td>225.0</td>\n",
       "      <td>3</td>\n",
       "      <td>1125</td>\n",
       "      <td>https://www.airbnb.com/rooms/891907</td>\n",
       "      <td>aplace/antwerp: stunning flat with square view</td>\n",
       "      <td>While entering this well located flat, you'll ...</td>\n",
       "      <td>51.218575</td>\n",
       "      <td>4.398631</td>\n",
       "      <td>...</td>\n",
       "      <td>4</td>\n",
       "      <td>1.5 baths</td>\n",
       "      <td>2.0</td>\n",
       "      <td>2.0</td>\n",
       "      <td>[\"Refrigerator\", \"Kitchen\", \"Smoke alarm\", \"Ha...</td>\n",
       "      <td>234077</td>\n",
       "      <td>Karin</td>\n",
       "      <td>2010-09-14 00:00:00.000000</td>\n",
       "      <td>Antwerp, Flanders, Belgium</td>\n",
       "      <td>6.0</td>\n",
       "    </tr>\n",
       "    <tr>\n",
       "      <th>3</th>\n",
       "      <td>2543695</td>\n",
       "      <td>1</td>\n",
       "      <td>210.0</td>\n",
       "      <td>2</td>\n",
       "      <td>1125</td>\n",
       "      <td>https://www.airbnb.com/rooms/2543695</td>\n",
       "      <td>aplace/antwerp: gorgeous flat with square view</td>\n",
       "      <td>While entering this well located flat, you'll ...</td>\n",
       "      <td>51.218575</td>\n",
       "      <td>4.398631</td>\n",
       "      <td>...</td>\n",
       "      <td>4</td>\n",
       "      <td>1.5 baths</td>\n",
       "      <td>2.0</td>\n",
       "      <td>2.0</td>\n",
       "      <td>[\"Refrigerator\", \"Kitchen\", \"Smoke alarm\", \"Ha...</td>\n",
       "      <td>234077</td>\n",
       "      <td>Karin</td>\n",
       "      <td>2010-09-14 00:00:00.000000</td>\n",
       "      <td>Antwerp, Flanders, Belgium</td>\n",
       "      <td>15.0</td>\n",
       "    </tr>\n",
       "    <tr>\n",
       "      <th>4</th>\n",
       "      <td>116134</td>\n",
       "      <td>1</td>\n",
       "      <td>150.0</td>\n",
       "      <td>2</td>\n",
       "      <td>1125</td>\n",
       "      <td>https://www.airbnb.com/rooms/116134</td>\n",
       "      <td>Spacious apartment nearby Mas</td>\n",
       "      <td>Enjoy your stay at our 4 person apartment in t...</td>\n",
       "      <td>51.230510</td>\n",
       "      <td>4.405930</td>\n",
       "      <td>...</td>\n",
       "      <td>4</td>\n",
       "      <td>2.5 baths</td>\n",
       "      <td>2.0</td>\n",
       "      <td>2.0</td>\n",
       "      <td>[\"Refrigerator\", \"Elevator\", \"Paid street park...</td>\n",
       "      <td>586942</td>\n",
       "      <td>Paul</td>\n",
       "      <td>2011-05-14 00:00:00.000000</td>\n",
       "      <td>Kapellen, Flanders, Belgium</td>\n",
       "      <td>120.0</td>\n",
       "    </tr>\n",
       "  </tbody>\n",
       "</table>\n",
       "<p>5 rows × 22 columns</p>\n",
       "</div>"
      ],
      "text/plain": [
       "   listing_id  available  price  minimum_nights  maximum_nights  \\\n",
       "0       50904          0  165.0               1              60   \n",
       "1      891884          0  175.0               1            1125   \n",
       "2      891907          1  225.0               3            1125   \n",
       "3     2543695          1  210.0               2            1125   \n",
       "4      116134          1  150.0               2            1125   \n",
       "\n",
       "                            listing_url  \\\n",
       "0    https://www.airbnb.com/rooms/50904   \n",
       "1   https://www.airbnb.com/rooms/891884   \n",
       "2   https://www.airbnb.com/rooms/891907   \n",
       "3  https://www.airbnb.com/rooms/2543695   \n",
       "4   https://www.airbnb.com/rooms/116134   \n",
       "\n",
       "                                             name  \\\n",
       "0   aplace/antwerp: cosy suite - fashion district   \n",
       "1     aplace/antwerp: amazing suite & square view   \n",
       "2  aplace/antwerp: stunning flat with square view   \n",
       "3  aplace/antwerp: gorgeous flat with square view   \n",
       "4                   Spacious apartment nearby Mas   \n",
       "\n",
       "                                         description   latitude  longitude  \\\n",
       "0  Decorated in a vintage style combined with a f...  51.218575   4.398631   \n",
       "1  This second floor suite with a splendid square...  51.218575   4.398631   \n",
       "2  While entering this well located flat, you'll ...  51.218575   4.398631   \n",
       "3  While entering this well located flat, you'll ...  51.218575   4.398631   \n",
       "4  Enjoy your stay at our 4 person apartment in t...  51.230510   4.405930   \n",
       "\n",
       "   ... accomodates  bathrooms_text  bedrooms beds  \\\n",
       "0  ...           2  1 private bath       1.0  1.0   \n",
       "1  ...           2  1 private bath       1.0  1.0   \n",
       "2  ...           4       1.5 baths       2.0  2.0   \n",
       "3  ...           4       1.5 baths       2.0  2.0   \n",
       "4  ...           4       2.5 baths       2.0  2.0   \n",
       "\n",
       "                                           amenities  host_id host_name  \\\n",
       "0  [\"Kitchen\", \"Smoke alarm\", \"Hair dryer\", \"Keyp...   234077     Karin   \n",
       "1  [\"Refrigerator\", \"Kitchen\", \"Smoke alarm\", \"Ha...   234077     Karin   \n",
       "2  [\"Refrigerator\", \"Kitchen\", \"Smoke alarm\", \"Ha...   234077     Karin   \n",
       "3  [\"Refrigerator\", \"Kitchen\", \"Smoke alarm\", \"Ha...   234077     Karin   \n",
       "4  [\"Refrigerator\", \"Elevator\", \"Paid street park...   586942      Paul   \n",
       "\n",
       "                   host_since                host_location comments  \n",
       "0  2010-09-14 00:00:00.000000   Antwerp, Flanders, Belgium      2.0  \n",
       "1  2010-09-14 00:00:00.000000   Antwerp, Flanders, Belgium      2.0  \n",
       "2  2010-09-14 00:00:00.000000   Antwerp, Flanders, Belgium      6.0  \n",
       "3  2010-09-14 00:00:00.000000   Antwerp, Flanders, Belgium     15.0  \n",
       "4  2011-05-14 00:00:00.000000  Kapellen, Flanders, Belgium    120.0  \n",
       "\n",
       "[5 rows x 22 columns]"
      ]
     },
     "execution_count": 28,
     "metadata": {},
     "output_type": "execute_result"
    }
   ],
   "source": [
    "merged.head()"
   ]
  },
  {
   "cell_type": "markdown",
   "id": "9cb5eeeb",
   "metadata": {},
   "source": [
    "#### Saving the merged table to a csv file"
   ]
  },
  {
   "cell_type": "code",
   "execution_count": 29,
   "id": "442d2ca1",
   "metadata": {},
   "outputs": [],
   "source": [
    "merged.to_csv(\"airbnb.csv\",index=False)"
   ]
  },
  {
   "cell_type": "code",
   "execution_count": 30,
   "id": "e5c0d599",
   "metadata": {},
   "outputs": [],
   "source": [
    "df=pd.read_csv('airbnb.csv')"
   ]
  },
  {
   "cell_type": "code",
   "execution_count": 31,
   "id": "16df039a",
   "metadata": {},
   "outputs": [
    {
     "data": {
      "text/plain": [
       "(1749, 22)"
      ]
     },
     "execution_count": 31,
     "metadata": {},
     "output_type": "execute_result"
    }
   ],
   "source": [
    "df.shape"
   ]
  },
  {
   "cell_type": "code",
   "execution_count": 32,
   "id": "98d17c2c",
   "metadata": {
    "scrolled": false
   },
   "outputs": [
    {
     "name": "stdout",
     "output_type": "stream",
     "text": [
      "<class 'pandas.core.frame.DataFrame'>\n",
      "RangeIndex: 1749 entries, 0 to 1748\n",
      "Data columns (total 22 columns):\n",
      " #   Column          Non-Null Count  Dtype  \n",
      "---  ------          --------------  -----  \n",
      " 0   listing_id      1749 non-null   int64  \n",
      " 1   available       1749 non-null   int64  \n",
      " 2   price           1749 non-null   float64\n",
      " 3   minimum_nights  1749 non-null   int64  \n",
      " 4   maximum_nights  1749 non-null   int64  \n",
      " 5   listing_url     1749 non-null   object \n",
      " 6   name            1749 non-null   object \n",
      " 7   description     1679 non-null   object \n",
      " 8   latitude        1749 non-null   float64\n",
      " 9   longitude       1749 non-null   float64\n",
      " 10  property_type   1749 non-null   object \n",
      " 11  room_type       1749 non-null   object \n",
      " 12  accomodates     1749 non-null   int64  \n",
      " 13  bathrooms_text  1749 non-null   object \n",
      " 14  bedrooms        1621 non-null   float64\n",
      " 15  beds            1708 non-null   float64\n",
      " 16  amenities       1749 non-null   object \n",
      " 17  host_id         1749 non-null   int64  \n",
      " 18  host_name       1749 non-null   object \n",
      " 19  host_since      1749 non-null   object \n",
      " 20  host_location   1746 non-null   object \n",
      " 21  comments        1525 non-null   float64\n",
      "dtypes: float64(6), int64(6), object(10)\n",
      "memory usage: 300.7+ KB\n"
     ]
    }
   ],
   "source": [
    "df.info()"
   ]
  },
  {
   "cell_type": "code",
   "execution_count": 33,
   "id": "f4fef113",
   "metadata": {},
   "outputs": [],
   "source": [
    "df.drop(axis=1,columns=[\"listing_id\",'listing_url',\"name\",\"host_id\",\"host_name\",\"host_location\",\"description\"],inplace=True)"
   ]
  },
  {
   "cell_type": "code",
   "execution_count": 34,
   "id": "2fffc095",
   "metadata": {},
   "outputs": [
    {
     "data": {
      "text/html": [
       "<div>\n",
       "<style scoped>\n",
       "    .dataframe tbody tr th:only-of-type {\n",
       "        vertical-align: middle;\n",
       "    }\n",
       "\n",
       "    .dataframe tbody tr th {\n",
       "        vertical-align: top;\n",
       "    }\n",
       "\n",
       "    .dataframe thead th {\n",
       "        text-align: right;\n",
       "    }\n",
       "</style>\n",
       "<table border=\"1\" class=\"dataframe\">\n",
       "  <thead>\n",
       "    <tr style=\"text-align: right;\">\n",
       "      <th></th>\n",
       "      <th>count</th>\n",
       "      <th>mean</th>\n",
       "      <th>std</th>\n",
       "      <th>min</th>\n",
       "      <th>25%</th>\n",
       "      <th>50%</th>\n",
       "      <th>75%</th>\n",
       "      <th>max</th>\n",
       "    </tr>\n",
       "  </thead>\n",
       "  <tbody>\n",
       "    <tr>\n",
       "      <th>available</th>\n",
       "      <td>1749.0</td>\n",
       "      <td>0.501429</td>\n",
       "      <td>0.500141</td>\n",
       "      <td>0.000000</td>\n",
       "      <td>0.00000</td>\n",
       "      <td>1.00000</td>\n",
       "      <td>1.00000</td>\n",
       "      <td>1.00000</td>\n",
       "    </tr>\n",
       "    <tr>\n",
       "      <th>price</th>\n",
       "      <td>1749.0</td>\n",
       "      <td>118.440823</td>\n",
       "      <td>201.874365</td>\n",
       "      <td>14.000000</td>\n",
       "      <td>60.00000</td>\n",
       "      <td>79.00000</td>\n",
       "      <td>120.00000</td>\n",
       "      <td>5800.00000</td>\n",
       "    </tr>\n",
       "    <tr>\n",
       "      <th>minimum_nights</th>\n",
       "      <td>1749.0</td>\n",
       "      <td>5.392224</td>\n",
       "      <td>21.459729</td>\n",
       "      <td>1.000000</td>\n",
       "      <td>1.00000</td>\n",
       "      <td>2.00000</td>\n",
       "      <td>3.00000</td>\n",
       "      <td>500.00000</td>\n",
       "    </tr>\n",
       "    <tr>\n",
       "      <th>maximum_nights</th>\n",
       "      <td>1749.0</td>\n",
       "      <td>813.343625</td>\n",
       "      <td>518.645234</td>\n",
       "      <td>1.000000</td>\n",
       "      <td>365.00000</td>\n",
       "      <td>1125.00000</td>\n",
       "      <td>1125.00000</td>\n",
       "      <td>9999.00000</td>\n",
       "    </tr>\n",
       "    <tr>\n",
       "      <th>latitude</th>\n",
       "      <td>1749.0</td>\n",
       "      <td>51.214069</td>\n",
       "      <td>0.013740</td>\n",
       "      <td>51.160084</td>\n",
       "      <td>51.20787</td>\n",
       "      <td>51.21654</td>\n",
       "      <td>51.22088</td>\n",
       "      <td>51.34940</td>\n",
       "    </tr>\n",
       "    <tr>\n",
       "      <th>longitude</th>\n",
       "      <td>1749.0</td>\n",
       "      <td>4.413165</td>\n",
       "      <td>0.019373</td>\n",
       "      <td>4.290770</td>\n",
       "      <td>4.40024</td>\n",
       "      <td>4.40946</td>\n",
       "      <td>4.42466</td>\n",
       "      <td>4.48347</td>\n",
       "    </tr>\n",
       "    <tr>\n",
       "      <th>accomodates</th>\n",
       "      <td>1749.0</td>\n",
       "      <td>3.761578</td>\n",
       "      <td>2.771378</td>\n",
       "      <td>1.000000</td>\n",
       "      <td>2.00000</td>\n",
       "      <td>3.00000</td>\n",
       "      <td>4.00000</td>\n",
       "      <td>16.00000</td>\n",
       "    </tr>\n",
       "    <tr>\n",
       "      <th>bedrooms</th>\n",
       "      <td>1621.0</td>\n",
       "      <td>1.529303</td>\n",
       "      <td>1.091453</td>\n",
       "      <td>1.000000</td>\n",
       "      <td>1.00000</td>\n",
       "      <td>1.00000</td>\n",
       "      <td>2.00000</td>\n",
       "      <td>20.00000</td>\n",
       "    </tr>\n",
       "    <tr>\n",
       "      <th>beds</th>\n",
       "      <td>1708.0</td>\n",
       "      <td>2.220726</td>\n",
       "      <td>2.227509</td>\n",
       "      <td>1.000000</td>\n",
       "      <td>1.00000</td>\n",
       "      <td>2.00000</td>\n",
       "      <td>3.00000</td>\n",
       "      <td>44.00000</td>\n",
       "    </tr>\n",
       "    <tr>\n",
       "      <th>comments</th>\n",
       "      <td>1525.0</td>\n",
       "      <td>41.260984</td>\n",
       "      <td>64.735349</td>\n",
       "      <td>1.000000</td>\n",
       "      <td>5.00000</td>\n",
       "      <td>17.00000</td>\n",
       "      <td>47.00000</td>\n",
       "      <td>648.00000</td>\n",
       "    </tr>\n",
       "  </tbody>\n",
       "</table>\n",
       "</div>"
      ],
      "text/plain": [
       "                 count        mean         std        min        25%  \\\n",
       "available       1749.0    0.501429    0.500141   0.000000    0.00000   \n",
       "price           1749.0  118.440823  201.874365  14.000000   60.00000   \n",
       "minimum_nights  1749.0    5.392224   21.459729   1.000000    1.00000   \n",
       "maximum_nights  1749.0  813.343625  518.645234   1.000000  365.00000   \n",
       "latitude        1749.0   51.214069    0.013740  51.160084   51.20787   \n",
       "longitude       1749.0    4.413165    0.019373   4.290770    4.40024   \n",
       "accomodates     1749.0    3.761578    2.771378   1.000000    2.00000   \n",
       "bedrooms        1621.0    1.529303    1.091453   1.000000    1.00000   \n",
       "beds            1708.0    2.220726    2.227509   1.000000    1.00000   \n",
       "comments        1525.0   41.260984   64.735349   1.000000    5.00000   \n",
       "\n",
       "                       50%         75%         max  \n",
       "available          1.00000     1.00000     1.00000  \n",
       "price             79.00000   120.00000  5800.00000  \n",
       "minimum_nights     2.00000     3.00000   500.00000  \n",
       "maximum_nights  1125.00000  1125.00000  9999.00000  \n",
       "latitude          51.21654    51.22088    51.34940  \n",
       "longitude          4.40946     4.42466     4.48347  \n",
       "accomodates        3.00000     4.00000    16.00000  \n",
       "bedrooms           1.00000     2.00000    20.00000  \n",
       "beds               2.00000     3.00000    44.00000  \n",
       "comments          17.00000    47.00000   648.00000  "
      ]
     },
     "execution_count": 34,
     "metadata": {},
     "output_type": "execute_result"
    }
   ],
   "source": [
    "df.describe().T"
   ]
  },
  {
   "cell_type": "code",
   "execution_count": 35,
   "id": "ad4bf998",
   "metadata": {},
   "outputs": [
    {
     "data": {
      "text/html": [
       "<div>\n",
       "<style scoped>\n",
       "    .dataframe tbody tr th:only-of-type {\n",
       "        vertical-align: middle;\n",
       "    }\n",
       "\n",
       "    .dataframe tbody tr th {\n",
       "        vertical-align: top;\n",
       "    }\n",
       "\n",
       "    .dataframe thead th {\n",
       "        text-align: right;\n",
       "    }\n",
       "</style>\n",
       "<table border=\"1\" class=\"dataframe\">\n",
       "  <thead>\n",
       "    <tr style=\"text-align: right;\">\n",
       "      <th></th>\n",
       "      <th>count</th>\n",
       "      <th>unique</th>\n",
       "      <th>top</th>\n",
       "      <th>freq</th>\n",
       "    </tr>\n",
       "  </thead>\n",
       "  <tbody>\n",
       "    <tr>\n",
       "      <th>property_type</th>\n",
       "      <td>1749</td>\n",
       "      <td>39</td>\n",
       "      <td>Entire rental unit</td>\n",
       "      <td>981</td>\n",
       "    </tr>\n",
       "    <tr>\n",
       "      <th>room_type</th>\n",
       "      <td>1749</td>\n",
       "      <td>4</td>\n",
       "      <td>Entire home/apt</td>\n",
       "      <td>1379</td>\n",
       "    </tr>\n",
       "    <tr>\n",
       "      <th>bathrooms_text</th>\n",
       "      <td>1749</td>\n",
       "      <td>26</td>\n",
       "      <td>1 bath</td>\n",
       "      <td>825</td>\n",
       "    </tr>\n",
       "    <tr>\n",
       "      <th>amenities</th>\n",
       "      <td>1749</td>\n",
       "      <td>1656</td>\n",
       "      <td>[\"Refrigerator\", \"Kitchen\", \"Smoke alarm\", \"Sh...</td>\n",
       "      <td>9</td>\n",
       "    </tr>\n",
       "    <tr>\n",
       "      <th>host_since</th>\n",
       "      <td>1749</td>\n",
       "      <td>927</td>\n",
       "      <td>2019-12-13 00:00:00.000000</td>\n",
       "      <td>64</td>\n",
       "    </tr>\n",
       "  </tbody>\n",
       "</table>\n",
       "</div>"
      ],
      "text/plain": [
       "               count unique  \\\n",
       "property_type   1749     39   \n",
       "room_type       1749      4   \n",
       "bathrooms_text  1749     26   \n",
       "amenities       1749   1656   \n",
       "host_since      1749    927   \n",
       "\n",
       "                                                              top  freq  \n",
       "property_type                                  Entire rental unit   981  \n",
       "room_type                                         Entire home/apt  1379  \n",
       "bathrooms_text                                             1 bath   825  \n",
       "amenities       [\"Refrigerator\", \"Kitchen\", \"Smoke alarm\", \"Sh...     9  \n",
       "host_since                             2019-12-13 00:00:00.000000    64  "
      ]
     },
     "execution_count": 35,
     "metadata": {},
     "output_type": "execute_result"
    }
   ],
   "source": [
    "df.describe(include='object').T"
   ]
  },
  {
   "cell_type": "code",
   "execution_count": 36,
   "id": "c479c3ee",
   "metadata": {
    "scrolled": false
   },
   "outputs": [
    {
     "data": {
      "image/png": "[encoded data removed]",
      "text/plain": [
       "<Figure size 432x288 with 1 Axes>"
      ]
     },
     "metadata": {
      "needs_background": "light"
     },
     "output_type": "display_data"
    }
   ],
   "source": [
    "df.isna().sum().plot(kind='bar');"
   ]
  },
  {
   "cell_type": "markdown",
   "id": "4de0d4ed",
   "metadata": {},
   "source": [
    "##### Treating host_since"
   ]
  },
  {
   "cell_type": "code",
   "execution_count": 37,
   "id": "4463ea96",
   "metadata": {},
   "outputs": [],
   "source": [
    "host_ex=[]\n",
    "for time in df.host_since:\n",
    "    host_ex.append(time.split(\"-\")[0])\n",
    "df['host_since_']=host_ex\n",
    "df['host_exp']=2022-df.host_since_.astype('int')"
   ]
  },
  {
   "cell_type": "markdown",
   "id": "04b8d54f",
   "metadata": {},
   "source": [
    "#### Treating bathroom_text"
   ]
  },
  {
   "cell_type": "code",
   "execution_count": 38,
   "id": "8306ab81",
   "metadata": {},
   "outputs": [
    {
     "data": {
      "text/plain": [
       "array(['1 private bath', '1.5 baths', '2.5 baths', '1 bath',\n",
       "       '2 shared baths', '3 shared baths', 'Shared half-bath',\n",
       "       '1.5 shared baths', '2 baths', '1 shared bath', '3.5 baths',\n",
       "       '3 baths', '2.5 shared baths', '8.5 baths', '4 baths', '0 baths',\n",
       "       '5 baths', 'Half-bath', 'Private half-bath', '4 shared baths',\n",
       "       '0 shared baths', '6.5 baths', '15.5 baths', '8 baths', '6 baths',\n",
       "       '7.5 baths'], dtype=object)"
      ]
     },
     "execution_count": 38,
     "metadata": {},
     "output_type": "execute_result"
    }
   ],
   "source": [
    "df['bathrooms_text'].unique()"
   ]
  },
  {
   "cell_type": "code",
   "execution_count": 39,
   "id": "06c15c2f",
   "metadata": {},
   "outputs": [],
   "source": [
    "df.bathrooms_text.replace([\"Shared half-bath\",'Half-bath','Private half-bath'],['0.5 shared baths','0.5 baths','0.5 private baths'],inplace=True)"
   ]
  },
  {
   "cell_type": "code",
   "execution_count": 40,
   "id": "2e4e9a5f",
   "metadata": {},
   "outputs": [],
   "source": [
    "shared = []\n",
    "for i in range(0,len(df)):\n",
    "    if 'shared' in df.loc[i,'bathrooms_text']:\n",
    "        shared.append(1)\n",
    "    else:\n",
    "        shared.append(0)\n",
    "df['shared_bath']=shared"
   ]
  },
  {
   "cell_type": "code",
   "execution_count": 41,
   "id": "edf6d3ec",
   "metadata": {},
   "outputs": [],
   "source": [
    "baths=[]\n",
    "for item in df.bathrooms_text:\n",
    "    baths.append(item.split(\" \")[0])\n",
    "df['baths']=baths\n",
    "df['baths']=df.baths.astype('float')"
   ]
  },
  {
   "cell_type": "markdown",
   "id": "83acad05",
   "metadata": {},
   "source": [
    "#### Treating comments"
   ]
  },
  {
   "cell_type": "code",
   "execution_count": 42,
   "id": "56d4c20a",
   "metadata": {},
   "outputs": [],
   "source": [
    "df.comments.fillna(0,inplace=True)"
   ]
  },
  {
   "cell_type": "code",
   "execution_count": 43,
   "id": "9d70a71e",
   "metadata": {},
   "outputs": [
    {
     "data": {
      "text/plain": [
       "<AxesSubplot:>"
      ]
     },
     "execution_count": 43,
     "metadata": {},
     "output_type": "execute_result"
    },
    {
     "data": {
      "image/png": "[encoded data removed]",
      "text/plain": [
       "<Figure size 432x288 with 1 Axes>"
      ]
     },
     "metadata": {
      "needs_background": "light"
     },
     "output_type": "display_data"
    }
   ],
   "source": [
    "df.isna().sum().plot(kind='bar')"
   ]
  },
  {
   "cell_type": "code",
   "execution_count": 44,
   "id": "6e0fc2b4",
   "metadata": {},
   "outputs": [],
   "source": [
    "df.drop(axis=1,columns=['bathrooms_text','host_since','host_since_'],inplace=True) \n",
    "### droping host_since and bathrooms_text"
   ]
  },
  {
   "cell_type": "markdown",
   "id": "6859298b",
   "metadata": {},
   "source": [
    "### Treating amenities"
   ]
  },
  {
   "cell_type": "code",
   "execution_count": 45,
   "id": "12ec8034",
   "metadata": {},
   "outputs": [
    {
     "data": {
      "text/plain": [
       "0       [\"Kitchen\", \"Smoke alarm\", \"Hair dryer\", \"Keyp...\n",
       "1       [\"Refrigerator\", \"Kitchen\", \"Smoke alarm\", \"Ha...\n",
       "2       [\"Refrigerator\", \"Kitchen\", \"Smoke alarm\", \"Ha...\n",
       "3       [\"Refrigerator\", \"Kitchen\", \"Smoke alarm\", \"Ha...\n",
       "4       [\"Refrigerator\", \"Elevator\", \"Paid street park...\n",
       "                              ...                        \n",
       "1744    [\"Long term stays allowed\", \"Kitchen\", \"Smoke ...\n",
       "1745    [\"Refrigerator\", \"Elevator\", \"Yamaha RX-A550 s...\n",
       "1746    [\"Hot water\", \"Long term stays allowed\", \"Kitc...\n",
       "1747    [\"Refrigerator\", \"Private garden or backyard\",...\n",
       "1748    [\"Kitchen\", \"Voice command Google  Bluetooth s...\n",
       "Name: amenities, Length: 1749, dtype: object"
      ]
     },
     "execution_count": 45,
     "metadata": {},
     "output_type": "execute_result"
    }
   ],
   "source": [
    "df.amenities"
   ]
  },
  {
   "cell_type": "code",
   "execution_count": 46,
   "id": "02c5dcc6",
   "metadata": {},
   "outputs": [],
   "source": [
    "amenities=[]\n",
    "for string in df.amenities:\n",
    "    a=string.split(\"[\")[1].split(\"]\")[0].split(\",\")\n",
    "    for item in a:\n",
    "        amenities.append(item)\n",
    "amenities=list(set(amenities))"
   ]
  },
  {
   "cell_type": "code",
   "execution_count": 47,
   "id": "097a5fa4",
   "metadata": {},
   "outputs": [
    {
     "data": {
      "text/plain": [
       "538"
      ]
     },
     "execution_count": 47,
     "metadata": {},
     "output_type": "execute_result"
    }
   ],
   "source": [
    "len(amenities)"
   ]
  },
  {
   "cell_type": "code",
   "execution_count": 48,
   "id": "c3366dfd",
   "metadata": {},
   "outputs": [
    {
     "name": "stdout",
     "output_type": "stream",
     "text": [
      "<class 'pandas.core.frame.DataFrame'>\n",
      "RangeIndex: 1749 entries, 0 to 1748\n",
      "Data columns (total 16 columns):\n",
      " #   Column          Non-Null Count  Dtype  \n",
      "---  ------          --------------  -----  \n",
      " 0   available       1749 non-null   int64  \n",
      " 1   price           1749 non-null   float64\n",
      " 2   minimum_nights  1749 non-null   int64  \n",
      " 3   maximum_nights  1749 non-null   int64  \n",
      " 4   latitude        1749 non-null   float64\n",
      " 5   longitude       1749 non-null   float64\n",
      " 6   property_type   1749 non-null   object \n",
      " 7   room_type       1749 non-null   object \n",
      " 8   accomodates     1749 non-null   int64  \n",
      " 9   bedrooms        1621 non-null   float64\n",
      " 10  beds            1708 non-null   float64\n",
      " 11  amenities       1749 non-null   object \n",
      " 12  comments        1749 non-null   float64\n",
      " 13  host_exp        1749 non-null   int32  \n",
      " 14  shared_bath     1749 non-null   int64  \n",
      " 15  baths           1749 non-null   float64\n",
      "dtypes: float64(7), int32(1), int64(5), object(3)\n",
      "memory usage: 211.9+ KB\n"
     ]
    }
   ],
   "source": [
    "df.info()"
   ]
  },
  {
   "cell_type": "code",
   "execution_count": 49,
   "id": "7dc7d69b",
   "metadata": {},
   "outputs": [],
   "source": [
    "df_amenities=pd.DataFrame()\n",
    "for item in amenities:\n",
    "    item_bool=[]\n",
    "    for string in df.amenities:\n",
    "        if item in string:\n",
    "            item_bool.append(1)\n",
    "        else:\n",
    "            item_bool.append(0)\n",
    "    df_amenities[item]=item_bool\n",
    "            "
   ]
  },
  {
   "cell_type": "code",
   "execution_count": 50,
   "id": "9c77c2fc",
   "metadata": {},
   "outputs": [
    {
     "data": {
      "text/plain": [
       "((1749, 16), (1749, 538))"
      ]
     },
     "execution_count": 50,
     "metadata": {},
     "output_type": "execute_result"
    }
   ],
   "source": [
    "df.shape,df_amenities.shape"
   ]
  },
  {
   "cell_type": "code",
   "execution_count": 51,
   "id": "a00298f9",
   "metadata": {},
   "outputs": [],
   "source": [
    "df_amenities['property_type']=df.property_type"
   ]
  },
  {
   "cell_type": "code",
   "execution_count": 52,
   "id": "8fe91c7b",
   "metadata": {},
   "outputs": [],
   "source": [
    "df.drop(axis=1,columns=['amenities','property_type'],inplace=True)"
   ]
  },
  {
   "cell_type": "code",
   "execution_count": 53,
   "id": "245da6de",
   "metadata": {},
   "outputs": [
    {
     "name": "stdout",
     "output_type": "stream",
     "text": [
      "<class 'pandas.core.frame.DataFrame'>\n",
      "RangeIndex: 1749 entries, 0 to 1748\n",
      "Data columns (total 14 columns):\n",
      " #   Column          Non-Null Count  Dtype  \n",
      "---  ------          --------------  -----  \n",
      " 0   available       1749 non-null   int64  \n",
      " 1   price           1749 non-null   float64\n",
      " 2   minimum_nights  1749 non-null   int64  \n",
      " 3   maximum_nights  1749 non-null   int64  \n",
      " 4   latitude        1749 non-null   float64\n",
      " 5   longitude       1749 non-null   float64\n",
      " 6   room_type       1749 non-null   object \n",
      " 7   accomodates     1749 non-null   int64  \n",
      " 8   bedrooms        1621 non-null   float64\n",
      " 9   beds            1708 non-null   float64\n",
      " 10  comments        1749 non-null   float64\n",
      " 11  host_exp        1749 non-null   int32  \n",
      " 12  shared_bath     1749 non-null   int64  \n",
      " 13  baths           1749 non-null   float64\n",
      "dtypes: float64(7), int32(1), int64(5), object(1)\n",
      "memory usage: 184.6+ KB\n"
     ]
    }
   ],
   "source": [
    "df.info()"
   ]
  },
  {
   "cell_type": "code",
   "execution_count": 54,
   "id": "476f7a2e",
   "metadata": {},
   "outputs": [
    {
     "data": {
      "text/html": [
       "<div>\n",
       "<style scoped>\n",
       "    .dataframe tbody tr th:only-of-type {\n",
       "        vertical-align: middle;\n",
       "    }\n",
       "\n",
       "    .dataframe tbody tr th {\n",
       "        vertical-align: top;\n",
       "    }\n",
       "\n",
       "    .dataframe thead th {\n",
       "        text-align: right;\n",
       "    }\n",
       "</style>\n",
       "<table border=\"1\" class=\"dataframe\">\n",
       "  <thead>\n",
       "    <tr style=\"text-align: right;\">\n",
       "      <th></th>\n",
       "      <th>count</th>\n",
       "      <th>unique</th>\n",
       "      <th>top</th>\n",
       "      <th>freq</th>\n",
       "    </tr>\n",
       "  </thead>\n",
       "  <tbody>\n",
       "    <tr>\n",
       "      <th>room_type</th>\n",
       "      <td>1749</td>\n",
       "      <td>4</td>\n",
       "      <td>Entire home/apt</td>\n",
       "      <td>1379</td>\n",
       "    </tr>\n",
       "  </tbody>\n",
       "</table>\n",
       "</div>"
      ],
      "text/plain": [
       "          count unique              top  freq\n",
       "room_type  1749      4  Entire home/apt  1379"
      ]
     },
     "execution_count": 54,
     "metadata": {},
     "output_type": "execute_result"
    }
   ],
   "source": [
    "df.describe(include='object').T"
   ]
  },
  {
   "cell_type": "code",
   "execution_count": 55,
   "id": "c17ae622",
   "metadata": {},
   "outputs": [
    {
     "data": {
      "text/plain": [
       "array(['Hotel room', 'Entire home/apt', 'Private room', 'Shared room'],\n",
       "      dtype=object)"
      ]
     },
     "execution_count": 55,
     "metadata": {},
     "output_type": "execute_result"
    }
   ],
   "source": [
    "df.room_type.unique()"
   ]
  },
  {
   "cell_type": "code",
   "execution_count": 56,
   "id": "a3789e6e",
   "metadata": {},
   "outputs": [],
   "source": [
    "df=pd.get_dummies(df,drop_first=True)"
   ]
  },
  {
   "cell_type": "code",
   "execution_count": 57,
   "id": "5847e56a",
   "metadata": {},
   "outputs": [
    {
     "data": {
      "text/plain": [
       "(1749, 16)"
      ]
     },
     "execution_count": 57,
     "metadata": {},
     "output_type": "execute_result"
    }
   ],
   "source": [
    "df.shape"
   ]
  },
  {
   "cell_type": "code",
   "execution_count": 58,
   "id": "758b2d7e",
   "metadata": {},
   "outputs": [],
   "source": [
    "df.to_csv('airbnb_final.csv',index=False)"
   ]
  },
  {
   "cell_type": "code",
   "execution_count": 59,
   "id": "5978a993",
   "metadata": {},
   "outputs": [],
   "source": [
    "df_amenities.to_csv('airbnb_amenities.csv',index=False)"
   ]
  },
  {
   "cell_type": "code",
   "execution_count": null,
   "id": "70a5063d",
   "metadata": {},
   "outputs": [],
   "source": []
  },
  {
   "cell_type": "code",
   "execution_count": null,
   "id": "27f46277",
   "metadata": {},
   "outputs": [],
   "source": [
    "import numpy as np\n",
    "from sklearn.impute import KNNImputer"
   ]
  },
  {
   "cell_type": "code",
   "execution_count": null,
   "id": "92a3de65",
   "metadata": {},
   "outputs": [],
   "source": [
    "imputer = KNNImputer(n_neighbors=3)\n",
    "X=imputer.fit_transform(df)"
   ]
  },
  {
   "cell_type": "code",
   "execution_count": null,
   "id": "ba162ba5",
   "metadata": {},
   "outputs": [],
   "source": [
    "df=pd.DataFrame(X,columns=df.columns)"
   ]
  },
  {
   "cell_type": "code",
   "execution_count": null,
   "id": "9b09d6b3",
   "metadata": {},
   "outputs": [],
   "source": []
  }
 ],
 "metadata": {
  "kernelspec": {
   "display_name": "Python 3",
   "language": "python",
   "name": "python3"
  },
  "language_info": {
   "codemirror_mode": {
    "name": "ipython",
    "version": 3
   },
   "file_extension": ".py",
   "mimetype": "text/x-python",
   "name": "python",
   "nbconvert_exporter": "python",
   "pygments_lexer": "ipython3",
   "version": "3.8.8"
  }
 },
 "nbformat": 4,
 "nbformat_minor": 5
}
